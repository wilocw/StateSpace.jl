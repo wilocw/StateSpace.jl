{
 "cells": [
  {
   "cell_type": "markdown",
   "metadata": {},
   "source": [
    "# Infinite-Dimensional Bayesian Filtering for Detection of Quasiperiodic Phenomena in Spatiotemporal data\n",
    "\n",
    "$\\frac{\\partial^2}{\\partial t^2}x(\\mathbf{u},t) + \\mathcal{A}\\frac{\\partial}{\\partial t}x(\\mathbf{u},t) + \\mathcal{B}x(\\mathbf{u},t) = \\xi(\\mathbf{u},t)$\n",
    "\n",
    "$C(\\mathbf{u},\\mathbf{u}') = \\kappa_\\xi(\\mathbf{u},\\mathbf{u}')\\delta(t-t')$\n",
    "\n",
    "$\\kappa_\\xi(\\mathbf{u},\\mathbf{u}') = \\sigma^2\\frac{2^{1-\\nu}}{\\Gamma\\nu}\\left(\\sqrt{2\\nu}\\frac{\\|\\mathbf{u}-\\mathbf{u}'\\|}{\\mathcal{l}}\\right)^\\nu \\mathcal{K}_\\nu\\left(\\sqrt{2\\nu}\\frac{\\|\\mathbf{u}-\\mathbf{u}'\\|}{\\mathcal{l}}\\right)$"
   ]
  },
  {
   "cell_type": "code",
   "execution_count": 1,
   "metadata": {},
   "outputs": [],
   "source": [
    "# Resonator parameters\n",
    "𝛾, χ = 1., 0.01\n",
    "\n",
    "# Covariance parameters\n",
    "ν, l, σₖ = 3./2., 0.1, 0.25\n",
    "\n",
    "ω = 6.#Hz\n",
    ";# suppress output"
   ]
  },
  {
   "cell_type": "markdown",
   "metadata": {},
   "source": [
    "## Define Differential Operators\n",
    "\n",
    "$\\nabla^2f(\\mathbf{x},t)$ is the Laplacian operator, $\\nabla\\cdot\\nabla f(\\mathbf{x},t) = \\sum_i\\frac{\\partial^2}{\\partial x_i^2}f(\\mathbf{x},t)$\n",
    "\n",
    "$\\nabla^4f(\\mathbf{x},t)$ is the biharmonic operator, $\\nabla^2(\\nabla^2f(\\mathbf{x},t)) = \\sum_i\\frac{\\partial^4}{\\partial x_i^4}f(\\mathbf{x},t) + \\sum_i\\sum_j\\frac{\\partial^4}{\\partial x_i^2\\partial x_j^2}f(\\mathbf{x},t)$"
   ]
  },
  {
   "cell_type": "code",
   "execution_count": 2,
   "metadata": {},
   "outputs": [
    {
     "data": {
      "text/plain": [
       "(::#7) (generic function with 1 method)"
      ]
     },
     "execution_count": 2,
     "metadata": {},
     "output_type": "execute_result"
    }
   ],
   "source": [
    "using ForwardDiff # for hessian\n",
    "\n",
    "∇² = f -> (x -> trace(ForwardDiff.hessian(f,x))) # laplacian\n",
    "∇⁴ = f -> (x -> ∇²(∇²(f))(x))         # biharmonic"
   ]
  },
  {
   "cell_type": "markdown",
   "metadata": {},
   "source": [
    "### Check differential operators\n",
    "\n",
    "Confirm autodifferention against test function $f(\\mathbf{x}) = \\sin x_1 + x_1\\cos x_2$\n",
    "\n",
    "Where $\\nabla^2f = -\\sin x_1 - x_1\\cos x_2$ and $\\nabla^4f = f(\\mathbf{x}) = \\sin x_1 + x_1\\cos x_2$"
   ]
  },
  {
   "cell_type": "code",
   "execution_count": 3,
   "metadata": {},
   "outputs": [
    {
     "name": "stdout",
     "output_type": "stream",
     "text": [
      "\u001b[1m\u001b[37mTest Summary: | \u001b[39m\u001b[22m\u001b[1m\u001b[32mPass  \u001b[39m\u001b[22m\u001b[1m\u001b[36mTotal\u001b[39m\u001b[22m\n",
      "Tests         | \u001b[32m 200  \u001b[39m\u001b[36m  200\u001b[39m\n"
     ]
    }
   ],
   "source": [
    "f   = x -> sin(x[1]) + x[1]*cos(x[2])\n",
    "\n",
    "∇²f = x -> -sin(x[1]) - x[1]*cos(x[2])\n",
    "∇⁴f = x -> sin(x[1])  + x[1]*cos(x[2])\n",
    "\n",
    "testpoints = [x = (100 * rand(2)) - 50 for _ in 1:100]\n",
    "\n",
    "using Base.Test\n",
    "\n",
    "@testset \"Tests\" begin\n",
    "    @testset \"Laplacian\" for x ∈ testpoints\n",
    "        @test ∇²(f)(x) ≈ ∇²f(x) atol=eps()\n",
    "    end\n",
    "    @testset \"Biharmonic\" for x ∈ testpoints\n",
    "        @test ∇⁴(f)(x) ≈ ∇⁴f(x) atol=eps()\n",
    "    end\n",
    "end;"
   ]
  },
  {
   "cell_type": "markdown",
   "metadata": {},
   "source": [
    "## Model Setup\n",
    "\n",
    "Operator definitions from _Solin and Särkkä_:"
   ]
  },
  {
   "cell_type": "code",
   "execution_count": 17,
   "metadata": {},
   "outputs": [
    {
     "data": {
      "text/plain": [
       "(::#235) (generic function with 1 method)"
      ]
     },
     "execution_count": 17,
     "metadata": {},
     "output_type": "execute_result"
    }
   ],
   "source": [
    "𝒜 = f -> (x -> 𝛾 - χ*∇²(f)(x))\n",
    " \n",
    "ℬ = f -> (x -> 𝛾^2/2 - 𝛾*χ*∇²(f)(x) + χ^2/2 * ∇⁴(f)(x) + ω^2)\n",
    "\n",
    "#ℱ = f -> (x -> [ 0. f[2](x) ; -ℬ(f[1])(x) -𝒜(f[2])(x)])\n",
    "#currying\n",
    "ℱ = f₁ -> (f₂ -> (x -> [ 0. f₂(x) ; -ℬ(f₁)(x) -𝒜(f₂)(x)]))\n",
    "\n",
    "𝐋 = [0 1]'\n",
    "\n",
    "#𝒰 = f -> (τ -> (x -> expm(τ * ℱ(f)(x))*[1.;1.]))\n",
    "# currying\n",
    "𝒰₁ = f₁ -> (f₂ -> (τ -> (x -> expm(τ * ℱ(f₁)(f₂)(x))[1])))\n",
    "𝒰₂ = f₁ -> (f₂ -> (τ -> (x -> expm(τ * ℱ(f₁)(f₂)(x))[2])))"
   ]
  },
  {
   "cell_type": "markdown",
   "metadata": {},
   "source": [
    "# Create sample data"
   ]
  },
  {
   "cell_type": "code",
   "execution_count": 22,
   "metadata": {},
   "outputs": [],
   "source": [
    "include(\"GP.jl\")\n",
    "\n",
    "nₜ = 10\n",
    "𝐭 = linspace(0., 1., nₜ)\n",
    " \n",
    "𝐶 = u -> sample_kernel(u, 𝑘 = kern_matern, θ = Dict(\"nu\"=>ν, \"lengthscale\" => l, \"variance\" => σₖ^2))\n",
    "\n",
    "x₀ = u -> cos.(u) + 𝐶(u)\n",
    "\n",
    "xₜ = [u -> x₀(u); u -> -𝒜(x₀)(u)]\n",
    "\n",
    "𝒙 = Array{Function}(2,nₜ)\n",
    "𝒙[:,1] = xₜ\n",
    "\n",
    ";"
   ]
  },
  {
   "cell_type": "code",
   "execution_count": 23,
   "metadata": {},
   "outputs": [],
   "source": [
    "for k ∈ 2:nₜ\n",
    "    Δₜ = 𝐭[k] - 𝐭[k-1]\n",
    "    \n",
    "    x₋ = xₜ\n",
    "    \n",
    "    xₜ = [ u -> 𝒰₁(x₋[1])(x₋[2])(Δₜ)(u) + 𝐶(u) ;\n",
    "           u -> 𝒰₂(x₋[1])(x₋[2])(Δₜ)(u) + 𝐶(u) ]\n",
    "    \n",
    "    𝒙[:,k] = xₜ\n",
    "end"
   ]
  },
  {
   "cell_type": "code",
   "execution_count": 24,
   "metadata": {},
   "outputs": [
    {
     "name": "stdout",
     "output_type": "stream",
     "text": [
      "1\n",
      "2\n"
     ]
    },
    {
     "ename": "LoadError",
     "evalue": "\u001b[91mMethodError: no method matching svdfact!(::Array{ForwardDiff.Dual{ForwardDiff.Tag{##371#372,Float64},ForwardDiff.Dual{ForwardDiff.Tag{##371#372,Float64},Float64,10},10},2}; thin=true)\u001b[0m\nClosest candidates are:\n  svdfact!(\u001b[91m::Base.LinAlg.AbstractTriangular\u001b[39m) at linalg/triangular.jl:2204\u001b[91m got unsupported keyword argument \"thin\"\u001b[39m\n  svdfact!(\u001b[91m::Union{Base.ReshapedArray{T<:Union{Complex{Float32}, Complex{Float64}, Float32, Float64},2,A,MI} where MI<:Tuple{Vararg{Base.MultiplicativeInverses.SignedMultiplicativeInverse{Int64},N} where N} where A<:Union{DenseArray, SubArray{T,N,P,I,true} where I<:Tuple{Union{Base.Slice, UnitRange},Vararg{Any,N} where N} where P where N where T}, DenseArray{T<:Union{Complex{Float32}, Complex{Float64}, Float32, Float64},2}, SubArray{T<:Union{Complex{Float32}, Complex{Float64}, Float32, Float64},2,A,I,L} where L} where I<:Tuple{Vararg{Union{Base.AbstractCartesianIndex, Int64, Range{Int64}},N} where N} where A<:Union{Base.ReshapedArray{T,N,A,MI} where MI<:Tuple{Vararg{Base.MultiplicativeInverses.SignedMultiplicativeInverse{Int64},N} where N} where A<:Union{DenseArray, SubArray{T,N,P,I,true} where I<:Tuple{Union{Base.Slice, UnitRange},Vararg{Any,N} where N} where P where N where T} where N where T, DenseArray}\u001b[39m; thin) where T<:Union{Complex{Float32}, Complex{Float64}, Float32, Float64} at linalg/svd.jl:20\n  svdfact!(\u001b[91m::Union{Base.ReshapedArray{T<:Union{Complex{Float32}, Complex{Float64}, Float32, Float64},2,A,MI} where MI<:Tuple{Vararg{Base.MultiplicativeInverses.SignedMultiplicativeInverse{Int64},N} where N} where A<:Union{DenseArray, SubArray{T,N,P,I,true} where I<:Tuple{Union{Base.Slice, UnitRange},Vararg{Any,N} where N} where P where N where T}, DenseArray{T<:Union{Complex{Float32}, Complex{Float64}, Float32, Float64},2}, SubArray{T<:Union{Complex{Float32}, Complex{Float64}, Float32, Float64},2,A,I,L} where L} where I<:Tuple{Vararg{Union{Base.AbstractCartesianIndex, Int64, Range{Int64}},N} where N} where A<:Union{Base.ReshapedArray{T,N,A,MI} where MI<:Tuple{Vararg{Base.MultiplicativeInverses.SignedMultiplicativeInverse{Int64},N} where N} where A<:Union{DenseArray, SubArray{T,N,P,I,true} where I<:Tuple{Union{Base.Slice, UnitRange},Vararg{Any,N} where N} where P where N where T} where N where T, DenseArray}\u001b[39m, \u001b[91m::Union{Base.ReshapedArray{T<:Union{Complex{Float32}, Complex{Float64}, Float32, Float64},2,A,MI} where MI<:Tuple{Vararg{Base.MultiplicativeInverses.SignedMultiplicativeInverse{Int64},N} where N} where A<:Union{DenseArray, SubArray{T,N,P,I,true} where I<:Tuple{Union{Base.Slice, UnitRange},Vararg{Any,N} where N} where P where N where T}, DenseArray{T<:Union{Complex{Float32}, Complex{Float64}, Float32, Float64},2}, SubArray{T<:Union{Complex{Float32}, Complex{Float64}, Float32, Float64},2,A,I,L} where L} where I<:Tuple{Vararg{Union{Base.AbstractCartesianIndex, Int64, Range{Int64}},N} where N} where A<:Union{Base.ReshapedArray{T,N,A,MI} where MI<:Tuple{Vararg{Base.MultiplicativeInverses.SignedMultiplicativeInverse{Int64},N} where N} where A<:Union{DenseArray, SubArray{T,N,P,I,true} where I<:Tuple{Union{Base.Slice, UnitRange},Vararg{Any,N} where N} where P where N where T} where N where T, DenseArray}\u001b[39m) where T<:Union{Complex{Float32}, Complex{Float64}, Float32, Float64} at linalg/svd.jl:197\u001b[91m got unsupported keyword argument \"thin\"\u001b[39m\n  ...\u001b[39m",
     "output_type": "error",
     "traceback": [
      "\u001b[91mMethodError: no method matching svdfact!(::Array{ForwardDiff.Dual{ForwardDiff.Tag{##371#372,Float64},ForwardDiff.Dual{ForwardDiff.Tag{##371#372,Float64},Float64,10},10},2}; thin=true)\u001b[0m\nClosest candidates are:\n  svdfact!(\u001b[91m::Base.LinAlg.AbstractTriangular\u001b[39m) at linalg/triangular.jl:2204\u001b[91m got unsupported keyword argument \"thin\"\u001b[39m\n  svdfact!(\u001b[91m::Union{Base.ReshapedArray{T<:Union{Complex{Float32}, Complex{Float64}, Float32, Float64},2,A,MI} where MI<:Tuple{Vararg{Base.MultiplicativeInverses.SignedMultiplicativeInverse{Int64},N} where N} where A<:Union{DenseArray, SubArray{T,N,P,I,true} where I<:Tuple{Union{Base.Slice, UnitRange},Vararg{Any,N} where N} where P where N where T}, DenseArray{T<:Union{Complex{Float32}, Complex{Float64}, Float32, Float64},2}, SubArray{T<:Union{Complex{Float32}, Complex{Float64}, Float32, Float64},2,A,I,L} where L} where I<:Tuple{Vararg{Union{Base.AbstractCartesianIndex, Int64, Range{Int64}},N} where N} where A<:Union{Base.ReshapedArray{T,N,A,MI} where MI<:Tuple{Vararg{Base.MultiplicativeInverses.SignedMultiplicativeInverse{Int64},N} where N} where A<:Union{DenseArray, SubArray{T,N,P,I,true} where I<:Tuple{Union{Base.Slice, UnitRange},Vararg{Any,N} where N} where P where N where T} where N where T, DenseArray}\u001b[39m; thin) where T<:Union{Complex{Float32}, Complex{Float64}, Float32, Float64} at linalg/svd.jl:20\n  svdfact!(\u001b[91m::Union{Base.ReshapedArray{T<:Union{Complex{Float32}, Complex{Float64}, Float32, Float64},2,A,MI} where MI<:Tuple{Vararg{Base.MultiplicativeInverses.SignedMultiplicativeInverse{Int64},N} where N} where A<:Union{DenseArray, SubArray{T,N,P,I,true} where I<:Tuple{Union{Base.Slice, UnitRange},Vararg{Any,N} where N} where P where N where T}, DenseArray{T<:Union{Complex{Float32}, Complex{Float64}, Float32, Float64},2}, SubArray{T<:Union{Complex{Float32}, Complex{Float64}, Float32, Float64},2,A,I,L} where L} where I<:Tuple{Vararg{Union{Base.AbstractCartesianIndex, Int64, Range{Int64}},N} where N} where A<:Union{Base.ReshapedArray{T,N,A,MI} where MI<:Tuple{Vararg{Base.MultiplicativeInverses.SignedMultiplicativeInverse{Int64},N} where N} where A<:Union{DenseArray, SubArray{T,N,P,I,true} where I<:Tuple{Union{Base.Slice, UnitRange},Vararg{Any,N} where N} where P where N where T} where N where T, DenseArray}\u001b[39m, \u001b[91m::Union{Base.ReshapedArray{T<:Union{Complex{Float32}, Complex{Float64}, Float32, Float64},2,A,MI} where MI<:Tuple{Vararg{Base.MultiplicativeInverses.SignedMultiplicativeInverse{Int64},N} where N} where A<:Union{DenseArray, SubArray{T,N,P,I,true} where I<:Tuple{Union{Base.Slice, UnitRange},Vararg{Any,N} where N} where P where N where T}, DenseArray{T<:Union{Complex{Float32}, Complex{Float64}, Float32, Float64},2}, SubArray{T<:Union{Complex{Float32}, Complex{Float64}, Float32, Float64},2,A,I,L} where L} where I<:Tuple{Vararg{Union{Base.AbstractCartesianIndex, Int64, Range{Int64}},N} where N} where A<:Union{Base.ReshapedArray{T,N,A,MI} where MI<:Tuple{Vararg{Base.MultiplicativeInverses.SignedMultiplicativeInverse{Int64},N} where N} where A<:Union{DenseArray, SubArray{T,N,P,I,true} where I<:Tuple{Union{Base.Slice, UnitRange},Vararg{Any,N} where N} where P where N where T} where N where T, DenseArray}\u001b[39m) where T<:Union{Complex{Float32}, Complex{Float64}, Float32, Float64} at linalg/svd.jl:197\u001b[91m got unsupported keyword argument \"thin\"\u001b[39m\n  ...\u001b[39m",
      "",
      "Stacktrace:",
      " [1] \u001b[1m#svdfact#51\u001b[22m\u001b[22m\u001b[1m(\u001b[22m\u001b[22m::Bool, ::Function, ::Array{ForwardDiff.Dual{ForwardDiff.Tag{##371#372,Float64},ForwardDiff.Dual{ForwardDiff.Tag{##371#372,Float64},Float64,10},10},2}\u001b[1m)\u001b[22m\u001b[22m at \u001b[1m./linalg/svd.jl:65\u001b[22m\u001b[22m",
      " [2] \u001b[1m(::Base.LinAlg.#kw##svdfact)\u001b[22m\u001b[22m\u001b[1m(\u001b[22m\u001b[22m::Array{Any,1}, ::Base.LinAlg.#svdfact, ::Array{ForwardDiff.Dual{ForwardDiff.Tag{##371#372,Float64},ForwardDiff.Dual{ForwardDiff.Tag{##371#372,Float64},Float64,10},10},2}\u001b[1m)\u001b[22m\u001b[22m at \u001b[1m./<missing>:0\u001b[22m\u001b[22m",
      " [3] \u001b[1m#svd#54\u001b[22m\u001b[22m at \u001b[1m./linalg/svd.jl:106\u001b[22m\u001b[22m [inlined]",
      " [4] \u001b[1msvd\u001b[22m\u001b[22m at \u001b[1m./linalg/svd.jl:106\u001b[22m\u001b[22m [inlined]",
      " [5] \u001b[1m#sample_kernel#345\u001b[22m\u001b[22m\u001b[1m(\u001b[22m\u001b[22m::#kern_matern, ::Dict{String,Float64}, ::Function, ::Array{ForwardDiff.Dual{ForwardDiff.Tag{##371#372,Float64},ForwardDiff.Dual{ForwardDiff.Tag{##371#372,Float64},Float64,10},10},1}\u001b[1m)\u001b[22m\u001b[22m at \u001b[1m/home/wil/Documents/git/StateSpace.jl/notebooks/GP.jl:233\u001b[22m\u001b[22m",
      " [6] \u001b[1m(::#kw##sample_kernel)\u001b[22m\u001b[22m\u001b[1m(\u001b[22m\u001b[22m::Array{Any,1}, ::#sample_kernel, ::Array{ForwardDiff.Dual{ForwardDiff.Tag{##371#372,Float64},ForwardDiff.Dual{ForwardDiff.Tag{##371#372,Float64},Float64,10},10},1}\u001b[1m)\u001b[22m\u001b[22m at \u001b[1m./<missing>:0\u001b[22m\u001b[22m",
      " [7] \u001b[1m(::##369#370)\u001b[22m\u001b[22m\u001b[1m(\u001b[22m\u001b[22m::Array{ForwardDiff.Dual{ForwardDiff.Tag{##371#372,Float64},ForwardDiff.Dual{ForwardDiff.Tag{##371#372,Float64},Float64,10},10},1}\u001b[1m)\u001b[22m\u001b[22m at \u001b[1m./In[22]:6\u001b[22m\u001b[22m",
      " [8] \u001b[1m(::##371#372)\u001b[22m\u001b[22m\u001b[1m(\u001b[22m\u001b[22m::Array{ForwardDiff.Dual{ForwardDiff.Tag{##371#372,Float64},ForwardDiff.Dual{ForwardDiff.Tag{##371#372,Float64},Float64,10},10},1}\u001b[1m)\u001b[22m\u001b[22m at \u001b[1m./In[22]:8\u001b[22m\u001b[22m",
      " [9] \u001b[1mchunk_mode_gradient\u001b[22m\u001b[22m\u001b[1m(\u001b[22m\u001b[22m::##371#372, ::Array{ForwardDiff.Dual{ForwardDiff.Tag{##371#372,Float64},Float64,10},1}, ::ForwardDiff.GradientConfig{ForwardDiff.Tag{##371#372,Float64},ForwardDiff.Dual{ForwardDiff.Tag{##371#372,Float64},Float64,10},10,Array{ForwardDiff.Dual{ForwardDiff.Tag{##371#372,Float64},ForwardDiff.Dual{ForwardDiff.Tag{##371#372,Float64},Float64,10},10},1}}\u001b[1m)\u001b[22m\u001b[22m at \u001b[1m/home/wil/.julia/v0.6/ForwardDiff/src/gradient.jl:139\u001b[22m\u001b[22m",
      " [10] \u001b[1mgradient\u001b[22m\u001b[22m\u001b[1m(\u001b[22m\u001b[22m::Function, ::Array{ForwardDiff.Dual{ForwardDiff.Tag{##371#372,Float64},Float64,10},1}, ::ForwardDiff.GradientConfig{ForwardDiff.Tag{##371#372,Float64},ForwardDiff.Dual{ForwardDiff.Tag{##371#372,Float64},Float64,10},10,Array{ForwardDiff.Dual{ForwardDiff.Tag{##371#372,Float64},ForwardDiff.Dual{ForwardDiff.Tag{##371#372,Float64},Float64,10},10},1}}, ::Val{false}\u001b[1m)\u001b[22m\u001b[22m at \u001b[1m/home/wil/.julia/v0.6/ForwardDiff/src/gradient.jl:19\u001b[22m\u001b[22m",
      " [11] \u001b[1mchunk_mode_jacobian\u001b[22m\u001b[22m\u001b[1m(\u001b[22m\u001b[22m::ForwardDiff.##71#72{##371#372,ForwardDiff.HessianConfig{ForwardDiff.Tag{##371#372,Float64},Float64,10,Array{ForwardDiff.Dual{ForwardDiff.Tag{##371#372,Float64},ForwardDiff.Dual{ForwardDiff.Tag{##371#372,Float64},Float64,10},10},1},Array{ForwardDiff.Dual{ForwardDiff.Tag{##371#372,Float64},Float64,10},1}}}, ::StepRangeLen{Float64,Base.TwicePrecision{Float64},Base.TwicePrecision{Float64}}, ::ForwardDiff.JacobianConfig{ForwardDiff.Tag{##371#372,Float64},Float64,10,Array{ForwardDiff.Dual{ForwardDiff.Tag{##371#372,Float64},Float64,10},1}}\u001b[1m)\u001b[22m\u001b[22m at \u001b[1m/home/wil/.julia/v0.6/ForwardDiff/src/jacobian.jl:212\u001b[22m\u001b[22m",
      " [12] \u001b[1mjacobian\u001b[22m\u001b[22m\u001b[1m(\u001b[22m\u001b[22m::Function, ::StepRangeLen{Float64,Base.TwicePrecision{Float64},Base.TwicePrecision{Float64}}, ::ForwardDiff.JacobianConfig{ForwardDiff.Tag{##371#372,Float64},Float64,10,Array{ForwardDiff.Dual{ForwardDiff.Tag{##371#372,Float64},Float64,10},1}}, ::Val{false}\u001b[1m)\u001b[22m\u001b[22m at \u001b[1m/home/wil/.julia/v0.6/ForwardDiff/src/jacobian.jl:19\u001b[22m\u001b[22m",
      " [13] \u001b[1mhessian\u001b[22m\u001b[22m\u001b[1m(\u001b[22m\u001b[22m::Function, ::StepRangeLen{Float64,Base.TwicePrecision{Float64},Base.TwicePrecision{Float64}}, ::ForwardDiff.HessianConfig{ForwardDiff.Tag{##371#372,Float64},Float64,10,Array{ForwardDiff.Dual{ForwardDiff.Tag{##371#372,Float64},ForwardDiff.Dual{ForwardDiff.Tag{##371#372,Float64},Float64,10},10},1},Array{ForwardDiff.Dual{ForwardDiff.Tag{##371#372,Float64},Float64,10},1}}, ::Val{true}\u001b[1m)\u001b[22m\u001b[22m at \u001b[1m/home/wil/.julia/v0.6/ForwardDiff/src/hessian.jl:17\u001b[22m\u001b[22m",
      " [14] \u001b[1mhessian\u001b[22m\u001b[22m\u001b[1m(\u001b[22m\u001b[22m::Function, ::StepRangeLen{Float64,Base.TwicePrecision{Float64},Base.TwicePrecision{Float64}}, ::ForwardDiff.HessianConfig{ForwardDiff.Tag{##371#372,Float64},Float64,10,Array{ForwardDiff.Dual{ForwardDiff.Tag{##371#372,Float64},ForwardDiff.Dual{ForwardDiff.Tag{##371#372,Float64},Float64,10},10},1},Array{ForwardDiff.Dual{ForwardDiff.Tag{##371#372,Float64},Float64,10},1}}\u001b[1m)\u001b[22m\u001b[22m at \u001b[1m/home/wil/.julia/v0.6/ForwardDiff/src/hessian.jl:15\u001b[22m\u001b[22m (repeats 2 times)",
      " [15] \u001b[1m(::##4#6{##371#372})\u001b[22m\u001b[22m\u001b[1m(\u001b[22m\u001b[22m::StepRangeLen{Float64,Base.TwicePrecision{Float64},Base.TwicePrecision{Float64}}\u001b[1m)\u001b[22m\u001b[22m at \u001b[1m./In[2]:3\u001b[22m\u001b[22m",
      " [16] \u001b[1m(::##214#216{##371#372})\u001b[22m\u001b[22m\u001b[1m(\u001b[22m\u001b[22m::StepRangeLen{Float64,Base.TwicePrecision{Float64},Base.TwicePrecision{Float64}}\u001b[1m)\u001b[22m\u001b[22m at \u001b[1m./In[17]:1\u001b[22m\u001b[22m",
      " [17] \u001b[1m(::##223#226{##374#376,##373#375})\u001b[22m\u001b[22m\u001b[1m(\u001b[22m\u001b[22m::StepRangeLen{Float64,Base.TwicePrecision{Float64},Base.TwicePrecision{Float64}}\u001b[1m)\u001b[22m\u001b[22m at \u001b[1m./In[17]:7\u001b[22m\u001b[22m",
      " [18] \u001b[1m(::##230#234{Float64,##374#376,##373#375})\u001b[22m\u001b[22m\u001b[1m(\u001b[22m\u001b[22m::StepRangeLen{Float64,Base.TwicePrecision{Float64},Base.TwicePrecision{Float64}}\u001b[1m)\u001b[22m\u001b[22m at \u001b[1m./In[17]:13\u001b[22m\u001b[22m",
      " [19] \u001b[1m(::##377#379)\u001b[22m\u001b[22m\u001b[1m(\u001b[22m\u001b[22m::StepRangeLen{Float64,Base.TwicePrecision{Float64},Base.TwicePrecision{Float64}}\u001b[1m)\u001b[22m\u001b[22m at \u001b[1m./In[23]:6\u001b[22m\u001b[22m",
      " [20] \u001b[1mmacro expansion\u001b[22m\u001b[22m at \u001b[1m./In[24]:10\u001b[22m\u001b[22m [inlined]",
      " [21] \u001b[1manonymous\u001b[22m\u001b[22m at \u001b[1m./<missing>:?\u001b[22m\u001b[22m"
     ]
    }
   ],
   "source": [
    "using PyPlot\n",
    "\n",
    "L, nₓ = 2π, 100       # Domain limits and mesh resolution\n",
    "Ω = linspace(-L, L, nₓ) # Spatial domain\n",
    "\n",
    "𝐟 = zeros(nₓ, nₜ)\n",
    "\n",
    "for k ∈ 1:nₜ\n",
    "    println(k)\n",
    "    𝐟[:,k] = 𝒙[:,k][1](Ω)\n",
    "end"
   ]
  },
  {
   "cell_type": "code",
   "execution_count": null,
   "metadata": {},
   "outputs": [],
   "source": []
  },
  {
   "cell_type": "code",
   "execution_count": 12,
   "metadata": {},
   "outputs": [
    {
     "data": {
      "text/plain": [
       "(::#112) (generic function with 1 method)"
      ]
     },
     "execution_count": 12,
     "metadata": {},
     "output_type": "execute_result"
    }
   ],
   "source": [
    "𝒙[:,2][1]"
   ]
  },
  {
   "cell_type": "code",
   "execution_count": null,
   "metadata": {},
   "outputs": [],
   "source": []
  },
  {
   "cell_type": "code",
   "execution_count": null,
   "metadata": {},
   "outputs": [],
   "source": []
  }
 ],
 "metadata": {
  "kernelspec": {
   "display_name": "Julia 0.6.2",
   "language": "julia",
   "name": "julia-0.6"
  },
  "language_info": {
   "file_extension": ".jl",
   "mimetype": "application/julia",
   "name": "julia",
   "version": "0.6.2"
  }
 },
 "nbformat": 4,
 "nbformat_minor": 2
}
