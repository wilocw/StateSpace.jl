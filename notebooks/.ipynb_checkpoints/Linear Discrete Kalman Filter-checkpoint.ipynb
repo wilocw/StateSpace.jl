{
 "cells": [
  {
   "cell_type": "code",
   "execution_count": 10,
   "metadata": {
    "collapsed": true
   },
   "outputs": [],
   "source": [
    "abstract type _Filter end\n",
    "abstract type _Smoother end"
   ]
  },
  {
   "cell_type": "code",
   "execution_count": 2,
   "metadata": {},
   "outputs": [
    {
     "data": {
      "text/plain": [
       "feval (generic function with 2 methods)"
      ]
     },
     "execution_count": 2,
     "metadata": {},
     "output_type": "execute_result"
    }
   ],
   "source": [
    "function at_least2d(𝐀)\n",
    "    if typeof(𝐀) <: Array\n",
    "        if ndims(𝐀) > 1\n",
    "            nothing # array already at least 2d\n",
    "        else\n",
    "            𝑛 = length(𝐀)\n",
    "            𝐀 = reshape(float(𝐀),𝑛,1)\n",
    "        end\n",
    "    elseif typeof(𝐀) <: Number\n",
    "        𝐀 = reshape([Float64(𝐀)],1,1)\n",
    "    end\n",
    "    return 𝐀\n",
    "end\n",
    "\n",
    "function feval(𝑓, 𝐱, 𝐮 = nothing)\n",
    "    if typeof(𝑓) <: Matrix\n",
    "        𝐲 = 𝑓 * 𝐱\n",
    "        if 𝐮 ≠ nothing\n",
    "            𝐲 += 𝐮\n",
    "        end\n",
    "    elseif typeof(𝑓) <: Function\n",
    "        if 𝐮 ≠ nothing\n",
    "            𝐲 = 𝑓(𝐱, 𝐮)\n",
    "        else\n",
    "            𝐲 = 𝑓(𝐱)\n",
    "        end\n",
    "    else\n",
    "        println(\"Could not infer type 𝑓, applying identity\")\n",
    "        return 𝐱\n",
    "    end\n",
    "    return 𝐲\n",
    "end\n"
   ]
  },
  {
   "cell_type": "code",
   "execution_count": 27,
   "metadata": {},
   "outputs": [
    {
     "data": {
      "text/plain": [
       "preallocate! (generic function with 1 method)"
      ]
     },
     "execution_count": 27,
     "metadata": {},
     "output_type": "execute_result"
    }
   ],
   "source": [
    "struct State\n",
    "    𝔼   :: Vector{Float64}\n",
    "    cov :: Matrix{Float64}\n",
    "end\n",
    "\n",
    "type KalmanFilter <: _Filter\n",
    "    \n",
    "    # States\n",
    "    𝐱ₜ   :: State\n",
    "    𝐱₀₋ₜ :: Array{State}\n",
    "\n",
    "    # Dynamic process\n",
    "    𝐅  :: Matrix{Float64}\n",
    "    𝐔ᶠ :: Matrix{Float64}\n",
    "\n",
    "    # Observation\n",
    "    𝐇 :: Matrix{Float64}\n",
    "    𝐔ʰ :: Matrix{Float64}\n",
    "\n",
    "    # Noise terms\n",
    "    𝐐 :: Matrix{Float64}\n",
    "    𝐑 :: Matrix{Float64}\n",
    "\n",
    "    # Dimensions\n",
    "    𝑛ˣ :: Int\n",
    "    𝑛ʸ :: Int\n",
    "    𝑡  :: Int\n",
    "\n",
    "    function KalmanFilter(𝐱₀, 𝐏₀, 𝐅, 𝐐, 𝐔ᶠ, 𝐇, 𝐑, 𝐔ʰ)\n",
    "        if !(typeof(𝐱₀) <: Array)\n",
    "            𝐱₀ = Vector{Float64}([𝐱₀])\n",
    "        end\n",
    "        𝑛ˣ = length(𝐱₀)\n",
    "    \n",
    "        𝐏₀ = at_least2d(𝐏₀)\n",
    "        𝐅  = at_least2d(𝐅)\n",
    "        𝐔ᶠ = at_least2d(𝐔ᶠ)\n",
    "        𝐐  = at_least2d(𝐐)\n",
    "        𝐇  = at_least2d(𝐇)\n",
    "        𝐔ʰ = at_least2d(𝐔ʰ)\n",
    "        𝐑  = at_least2d(𝐑)\n",
    "    \n",
    "        𝑛ʸ = size(𝐇,1)\n",
    "    \n",
    "        𝐱 = State(𝐱₀, 𝐏₀)\n",
    "        kf = new(𝐱, Array{State}([𝐱]),\n",
    "                 𝐅, 𝐔ᶠ,\n",
    "                 𝐇, 𝐔ʰ,\n",
    "                 𝐐, 𝐑,\n",
    "                 𝑛ˣ, 𝑛ʸ, 1)\n",
    "        return kf\n",
    "    end\n",
    "    \n",
    "    function KalmanFilter(𝐱₀, 𝐏₀)\n",
    "        if !(typeof(𝐱₀) <: Array)\n",
    "            𝐱₀ = Vector{Float64}([𝐱₀])\n",
    "        end\n",
    "        𝑛ˣ = length(𝐱₀)\n",
    "        \n",
    "        return KalmanFilter(𝐱₀, 𝐏₀, eye(𝑛ˣ), zeros(𝑛ˣ,𝑛ˣ), zeros(𝑛ˣ,𝑛ˣ), eye(𝑛ˣ), zeros(𝑛ˣ,𝑛ˣ), zeros(𝑛ˣ,𝑛ˣ))\n",
    "        \n",
    "    end\n",
    "    \n",
    "    function KalmanFilter(𝐱₀, 𝐏₀, 𝐅, 𝐐)\n",
    "        if !(typeof(𝐱₀) <: Array)\n",
    "            𝐱₀ = Vector{Float64}([𝐱₀])\n",
    "        end\n",
    "        𝑛ˣ = length(𝐱₀)\n",
    "        \n",
    "        return KalmanFilter(𝐱₀, 𝐏₀, 𝐅, 𝐐, zeros(𝑛ˣ,𝑛ˣ), eye(𝑛ˣ), zeros(𝑛ˣ,𝑛ˣ), zeros(𝑛ˣ,𝑛ˣ))\n",
    "        \n",
    "    end\n",
    "    \n",
    "    function KalmanFilter(𝐱₀, 𝐏₀, 𝐅, 𝐐, 𝐔ᶠ)\n",
    "        if !(typeof(𝐱₀) <: Array)\n",
    "            𝐱₀ = Vector{Float64}([𝐱₀])\n",
    "        end\n",
    "        𝑛ˣ = length(𝐱₀)\n",
    "        \n",
    "        return KalmanFilter(𝐱₀, 𝐏₀, 𝐅, 𝐐, 𝐔ᶠ, eye(𝑛ˣ), zeros(𝑛ˣ,𝑛ˣ), zeros(𝑛ˣ,𝑛ˣ))\n",
    "        \n",
    "    end\n",
    "    \n",
    "    function KalmanFilter(𝐱₀, 𝐏₀, 𝐅, 𝐐, 𝐇, 𝐑)\n",
    "        if !(typeof(𝐱₀) <: Array)\n",
    "            𝐱₀ = Vector{Float64}([𝐱₀])\n",
    "        end\n",
    "        𝑛ˣ = length(𝐱₀)\n",
    "        \n",
    "        return KalmanFilter(𝐱₀, 𝐏₀, 𝐅, 𝐐, zeros(𝑛ˣ,𝑛ˣ), 𝐇, 𝐑, zeros(𝑛ˣ,𝑛ˣ))\n",
    "        \n",
    "    end\n",
    "    \n",
    "end\n",
    "\n",
    "function predict!(kf::KalmanFilter, 𝐮 = nothing, 𝐐 = nothing)  \n",
    "    𝑥ₜ₋₁ = kf.𝐱ₜ.𝔼\n",
    "    𝑃ₜ₋₁ = kf.𝐱ₜ.cov\n",
    "    \n",
    "    if 𝐮 ≠ nothing\n",
    "        𝑥ₜ = feval(kf.𝐅, 𝑥ₜ₋₁, kf.𝐔ᶠ * 𝐮)\n",
    "    else\n",
    "        𝑥ₜ = feval(kf.𝐅, 𝑥ₜ₋₁)\n",
    "    end\n",
    "        \n",
    "    if 𝐐 ≠ nothing\n",
    "        kf.𝐐 = 𝐐\n",
    "    end\n",
    "    \n",
    "    𝑃ₜ = kf.𝐅 * 𝑃ₜ₋₁ * kf.𝐅' + kf.𝐐\n",
    "    \n",
    "    kf.𝐱ₜ = State(𝑥ₜ, 𝑃ₜ)\n",
    "    push!(kf.𝐱₀₋ₜ, kf.𝐱ₜ)\n",
    "    kf.𝑡 = length(kf.𝐱₀₋ₜ)\n",
    "end\n",
    "\n",
    "function update!(kf::KalmanFilter, 𝐲, 𝐮 = nothing, 𝐑 = nothing)\n",
    "    𝑥ₜ = kf.𝐱ₜ.𝔼\n",
    "    𝑃ₜ = kf.𝐱ₜ.cov\n",
    "    \n",
    "    if 𝐮 ≠ nothing\n",
    "        𝑦ₜ = feval(kf.𝐇, 𝑥ₜ, kf.𝐔ʰ * 𝐮)\n",
    "    else\n",
    "        𝑦ₜ = feval(kf.𝐇, 𝑥ₜ)\n",
    "    end\n",
    "    \n",
    "    if 𝐑 ≠ nothing\n",
    "        kf.𝐑 = 𝐑\n",
    "    end\n",
    "    \n",
    "    𝑃ˣʸ = 𝑃ₜ * kf.𝐇'\n",
    "    𝑃ʸ = kf.𝐇 * 𝑃ˣʸ + kf.𝐑\n",
    "    \n",
    "    𝐊ₜ = 𝑃ˣʸ / 𝑃ʸ\n",
    "    \n",
    "    𝑥ₜ = 𝑥ₜ + 𝐊ₜ * (𝐲 - 𝑦ₜ)\n",
    "    𝑃ₜ = 𝑃ₜ - 𝐊ₜ * 𝑃ʸ * 𝐊ₜ'\n",
    "    \n",
    "    kf.𝐱ₜ = State(𝑥ₜ, 𝑃ₜ)\n",
    "    kf.𝐱₀₋ₜ[kf.𝑡] = kf.𝐱ₜ\n",
    "end\n",
    "\n",
    "function preallocate!(kf::KalmanFilter, 𝑛ₜ)\n",
    "    𝑛 = length(kf.𝐱₀₋ₜ)\n",
    "    if 𝑛 < 𝑛ₜ && kf.𝑡 < 𝑛ₜ\n",
    "        append!(kf.𝐱₀₋ₜ,Array{State}(𝑛ₜ - 𝑛))\n",
    "    end\n",
    "end"
   ]
  },
  {
   "cell_type": "code",
   "execution_count": 4,
   "metadata": {},
   "outputs": [
    {
     "data": {
      "text/plain": [
       "(3, 1, 100)"
      ]
     },
     "execution_count": 4,
     "metadata": {},
     "output_type": "execute_result"
    }
   ],
   "source": [
    "𝐅 = [1. 1. 0.;\n",
    "     0. 1. 1.;\n",
    "     0. 0. 1.]\n",
    "𝐇 = [1. 0. 0.]\n",
    "\n",
    "𝐐 = [0. 0. 0. ; 0. 0.01 0. ; 0. 0. 0.001]\n",
    "𝐑 = at_least2d(400)\n",
    "\n",
    "𝐱₀ = [0., 0.1, 0.05]\n",
    "𝐏₀ = [10. 0. 0.; 0. 1. 0.; 0. 0. 0.1]\n",
    "\n",
    "𝑛ˣ, 𝑛ʸ, 𝑛ᵗ = 3, 1, 100"
   ]
  },
  {
   "cell_type": "code",
   "execution_count": 5,
   "metadata": {
    "collapsed": true
   },
   "outputs": [],
   "source": [
    "# noise free\n",
    "𝐱ⁿ = zeros(𝑛ˣ, 𝑛ᵗ)\n",
    "𝐲ⁿ = zeros(𝑛ʸ, 𝑛ᵗ)\n",
    "\n",
    "for 𝑖 ∈ 1:𝑛ᵗ\n",
    "    if 𝑖 == 1\n",
    "        𝐱ⁿ[:,𝑖] = 𝐱₀\n",
    "    else\n",
    "        𝐱ⁿ[:,𝑖] = 𝐅 * 𝐱ⁿ[:,𝑖-1]\n",
    "    end\n",
    "    𝐲ⁿ[:,𝑖] = 𝐇 * 𝐱ⁿ[:,𝑖]\n",
    "end\n",
    "\n",
    "\n",
    "# noisy\n",
    "𝐱⁺ = zeros(𝑛ˣ, 𝑛ᵗ)\n",
    "𝐲⁺ = zeros(𝑛ʸ, 𝑛ᵗ)\n",
    "𝐲ᵒ = zeros(𝑛ʸ, 𝑛ᵗ)\n",
    "\n",
    "for 𝑖 ∈ 1:𝑛ᵗ\n",
    "    if 𝑖 == 1\n",
    "        𝐱⁺[:,𝑖] = 𝐱₀\n",
    "    else\n",
    "        𝐱⁺[:,𝑖] = 𝐅 * 𝐱⁺[:,𝑖-1] + sqrt.(𝐐) * randn(𝑛ˣ,1)\n",
    "    end\n",
    "    𝐲⁺[:,𝑖] = 𝐇 * 𝐱⁺[:,𝑖]\n",
    "    𝐲ᵒ[:,𝑖] = 𝐲⁺[:,𝑖] + sqrt.(𝐑) * randn(𝑛ʸ, 1)\n",
    "end"
   ]
  },
  {
   "cell_type": "code",
   "execution_count": 6,
   "metadata": {
    "scrolled": false
   },
   "outputs": [
    {
     "data": {
      "image/png": "[encoded data removed]",
      "text/plain": [
       "PyPlot.Figure(PyObject <matplotlib.figure.Figure object at 0x00000000287110F0>)"
      ]
     },
     "metadata": {},
     "output_type": "display_data"
    },
    {
     "data": {
      "text/plain": [
       "1-element Array{PyCall.PyObject,1}:\n",
       " PyObject <matplotlib.lines.Line2D object at 0x00000000294AB128>"
      ]
     },
     "execution_count": 6,
     "metadata": {},
     "output_type": "execute_result"
    }
   ],
   "source": [
    "using PyPlot\n",
    "\n",
    "plot(𝐲ⁿ',\"k--\")\n",
    "\n",
    "plot(𝐲⁺',\"k-\")\n",
    "plot(𝐲ᵒ',\"b.\")\n"
   ]
  },
  {
   "cell_type": "code",
   "execution_count": 28,
   "metadata": {},
   "outputs": [
    {
     "data": {
      "text/plain": [
       "BenchmarkTools.Trial: \n",
       "  memory estimate:  346.64 KiB\n",
       "  allocs estimate:  5082\n",
       "  --------------\n",
       "  minimum time:     384.876 μs (0.00% GC)\n",
       "  median time:      408.840 μs (0.00% GC)\n",
       "  mean time:        454.607 μs (7.82% GC)\n",
       "  maximum time:     3.679 ms (83.13% GC)\n",
       "  --------------\n",
       "  samples:          10000\n",
       "  evals/sample:     1"
      ]
     },
     "execution_count": 28,
     "metadata": {},
     "output_type": "execute_result"
    }
   ],
   "source": [
    "function jlbenchmark()\n",
    "    kf = KalmanFilter(𝐱₀, 𝐏₀, 𝐅, 𝐐, 𝐇, 𝐑)\n",
    "    preallocate!(kf, 𝑛ᵗ)\n",
    "\n",
    "    𝐱ᵉ = zeros(𝑛ˣ, 𝑛ᵗ)\n",
    "    𝐏ᵉ = zeros(𝑛ˣ, 𝑛ˣ, 𝑛ᵗ)\n",
    "    𝐲ᵉ = zeros(𝑛ʸ, 𝑛ᵗ)\n",
    "\n",
    "    𝐱ᵉ[:,1] = 𝐱₀\n",
    "    𝐏ᵉ[:,:,1] = 𝐏₀\n",
    "    𝐲ᵉ[:,1] = 𝐇*𝐱₀\n",
    "\n",
    "    for 𝑖 ∈ 2:𝑛ᵗ\n",
    "        predict!(kf)\n",
    "        update!(kf, 𝐲ᵒ[:,𝑖])\n",
    "\n",
    "        𝐱ᵉ[:,𝑖]   = kf.𝐱ₜ.𝔼\n",
    "        𝐏ᵉ[:,:,𝑖] = kf.𝐱ₜ.cov\n",
    "        𝐲ᵉ[:,𝑖]   = 𝐇*𝐱ᵉ[:,𝑖]\n",
    "    end\n",
    "    \n",
    "    return 𝐲ᵉ, 𝐏ᵉ\n",
    "end\n",
    "\n",
    "𝐲ᵉ, 𝐏ᵉ = jlbenchmark()\n",
    "\n",
    "using BenchmarkTools\n",
    "@benchmark jlbenchmark()\n"
   ]
  },
  {
   "cell_type": "code",
   "execution_count": 8,
   "metadata": {},
   "outputs": [
    {
     "data": {
      "image/png": "[encoded data removed]",
      "text/plain": [
       "PyPlot.Figure(PyObject <matplotlib.figure.Figure object at 0x00000000295A3BA8>)"
      ]
     },
     "metadata": {},
     "output_type": "display_data"
    },
    {
     "data": {
      "text/plain": [
       "1-element Array{PyCall.PyObject,1}:\n",
       " PyObject <matplotlib.lines.Line2D object at 0x00000000299E9240>"
      ]
     },
     "execution_count": 8,
     "metadata": {},
     "output_type": "execute_result"
    }
   ],
   "source": [
    "using PyPlot\n",
    "\n",
    "plot(𝐲⁺',\"k-\")\n",
    "plot(𝐲ᵒ',\"b.\")\n",
    "\n",
    "σ² = reshape(𝐏ᵉ[1,1,:],𝑛ʸ,𝑛ᵗ)\n",
    "\n",
    "plot(𝐲ᵉ',\"r-\")\n",
    "plot(𝐲ᵉ' + 1.96*sqrt.(σ²)',\"r:\")\n",
    "plot(𝐲ᵉ' - 1.96*sqrt.(σ²)',\"r:\")"
   ]
  },
  {
   "cell_type": "code",
   "execution_count": 12,
   "metadata": {},
   "outputs": [],
   "source": [
    "type RauchTungStriebelSmoother <: _Smoother\n",
    "    \n",
    "    𝐱₀₋ₜ :: Array{State}\n",
    "    \n",
    "    𝐅  :: Matrix{Float64}\n",
    "    𝐔ᶠ :: Matrix{Float64}\n",
    "    𝐐  :: Matrix{Float64}\n",
    "    \n",
    "    𝑇  :: Int\n",
    "    𝑡   :: Int\n",
    "    \n",
    "    function RauchTungStriebelSmoother(𝐱₀₋ₜ, 𝐅, 𝐐, 𝐔ᶠ)\n",
    "        rts = new(𝐱₀₋ₜ, 𝐅, 𝐔ᶠ, 𝐐, length(𝐱₀₋ₜ), length(𝐱₀₋ₜ))\n",
    "        return rts\n",
    "    end\n",
    "    \n",
    "    function RauchTungStriebelSmoother(kf::KalmanFilter)\n",
    "        return RauchTungStriebelSmoother(kf.𝐱₀₋ₜ, kf.𝐅, kf.𝐐, kf.𝐔ᶠ)\n",
    "    end\n",
    "    \n",
    "    function RauchTungStribelSmoother(𝐱₀₋ₜ, 𝐅, 𝐐)\n",
    "        return RauchTungStriebelSmoother(𝐱₀₋ₜ, 𝐅, 𝐐, zeros(size(𝐅)))\n",
    "    end\n",
    "end\n",
    "\n",
    "function iterate_smoother!(rts::RauchTungStriebelSmoother, 𝐮 = nothing, 𝐐 = nothing)\n",
    " \n",
    "    𝑡 = rts.𝑡\n",
    "    \n",
    "    ## Expectation prediction\n",
    "    𝑥ₜ = rts.𝐱₀₋ₜ[𝑡].𝔼\n",
    "    \n",
    "    if 𝐮 ≠ nothing\n",
    "        𝑥⁻ₜ₊₁ = feval(rts.𝐅, 𝑥ₜ, rts.𝐔ᶠ * 𝐮)\n",
    "    else\n",
    "        𝑥⁻ₜ₊₁ = feval(rts.𝐅, 𝑥ₜ)\n",
    "    end\n",
    "    \n",
    "    ## Covariance prediction\n",
    "    𝑃ₜ = rts.𝐱₀₋ₜ[t].cov\n",
    "    \n",
    "    if 𝐐 ≠ nothing\n",
    "        rts.𝐐 = 𝐐\n",
    "    end\n",
    "    \n",
    "    𝑃⁻ₜ₊₁ = rts.𝐅 * 𝑃ₜ * rts.𝐅' + rts.𝐐\n",
    "    \n",
    "    𝐒ₜ = 𝑃ₜ * rts.𝐅 / 𝑃⁻ₜ₊₁\n",
    "    \n",
    "    ## Smoothing\n",
    "    𝑥⁺ₜ₊₁ = rts.𝐱₀₋ₜ[𝑡+1].𝔼\n",
    "    𝑃⁺ₜ₊₁ = rts.𝐱₀₋ₜ[t].cov\n",
    "    \n",
    "    𝑥ₜ += 𝐒ₜ * (𝑥⁺ₜ₊₁ - 𝑥⁻ₜ₊₁)\n",
    "    𝑃ₜ += 𝐒ₜ * (𝑃⁺ₜ₊₁ - 𝑃⁻ₜ₊₁) * 𝐒ₜ'\n",
    "    \n",
    "    rts.𝐱₀₋ₜ[𝑡].𝔼\n",
    "    rts.𝑡 -= 1\n",
    "end"
   ]
  },
  {
   "cell_type": "code",
   "execution_count": 22,
   "metadata": {},
   "outputs": [
    {
     "ename": "LoadError",
     "evalue": "\u001b[91mtype Array has no field length\u001b[39m",
     "output_type": "error",
     "traceback": [
      "\u001b[91mtype Array has no field length\u001b[39m",
      "",
      "Stacktrace:",
      " [1] \u001b[1minclude_string\u001b[22m\u001b[22m\u001b[1m(\u001b[22m\u001b[22m::String, ::String\u001b[1m)\u001b[22m\u001b[22m at \u001b[1m.\\loading.jl:522\u001b[22m\u001b[22m"
     ]
    }
   ],
   "source": [
    "a = [1]\n",
    "a.length(a)\n",
    "push!(a,1)"
   ]
  }
 ],
 "metadata": {
  "kernelspec": {
   "display_name": "Julia 0.6.2",
   "language": "julia",
   "name": "julia-0.6"
  },
  "language_info": {
   "file_extension": ".jl",
   "mimetype": "application/julia",
   "name": "julia",
   "version": "0.6.2"
  }
 },
 "nbformat": 4,
 "nbformat_minor": 2
}
