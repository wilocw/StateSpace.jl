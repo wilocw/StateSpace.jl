{
 "cells": [
  {
   "cell_type": "code",
   "execution_count": null,
   "metadata": {},
   "outputs": [],
   "source": [
    "include(\"GP.jl\");\n",
    "\n",
    "using PyPlot"
   ]
  },
  {
   "cell_type": "markdown",
   "metadata": {},
   "source": [
    "# Gaussian Processes\n",
    "\n",
    "something something"
   ]
  },
  {
   "cell_type": "markdown",
   "metadata": {},
   "source": [
    "## Kernels\n",
    "\n",
    "### Gaussian Radial Basis Function / Exponentiated Quadratic\n",
    "$k(x_i,x_j; \\theta) = \\sigma^2\\exp\\left(-\\frac{2}{l^2}\\|x_i - x_j\\|^2\\right)$\n",
    "\n",
    "Hyperparameters, $\\theta = \\{l,\\sigma^2\\}$ correspond to lengthscale and variance of kernel"
   ]
  },
  {
   "cell_type": "code",
   "execution_count": null,
   "metadata": {},
   "outputs": [],
   "source": [
    "x = linspace(-1.5,1.5,400)\n",
    "\n",
    "params = Dict(\"lengthscale\" => 0.25, \"variance\" => 1.)\n",
    "                                \n",
    "figure(figsize=(16,6))\n",
    "\n",
    "subplot(121)\n",
    "\n",
    "for _ ∈ 1:5\n",
    "    plot(x,sample_kernel(x,𝑘 = kern_rbf,θ = params))\n",
    "end\n",
    "\n",
    "title(L\"exponentiated quadratic, $l = 0.25$\")\n",
    "\n",
    "\n",
    "subplot(122)\n",
    "\n",
    "params[\"lengthscale\"] = 1.\n",
    "\n",
    "for _ ∈ 1:5\n",
    "    plot(x,sample_kernel(x,𝑘 = kern_rbf,θ = params))\n",
    "end\n",
    "\n",
    "title(L\"exponentiated quadratic, $l = 1.00$\")\n",
    "; # suppress text output"
   ]
  },
  {
   "cell_type": "markdown",
   "metadata": {},
   "source": [
    "### Periodic Kernel\n",
    "\n",
    "$k(x_i,x_j;\\theta) = \\sigma^2\\exp\\left(-\\frac{2}{l^2}\\sin^2(\\frac{\\pi}{\\omega}\\|x_i-x_j\\|)\\right)$\n",
    "\n",
    "Hyperparameters, $\\theta = \\{\\omega,l,\\sigma^2\\}$ correspond to period, lengthscale and variance of kernel respectively."
   ]
  },
  {
   "cell_type": "code",
   "execution_count": null,
   "metadata": {},
   "outputs": [],
   "source": [
    "figure(figsize=(16,13))\n",
    "\n",
    "subplot(221)\n",
    "\n",
    "params = Dict(\"period\" => 1., \"lengthscale\" => 0.25, \"variance\" => 1.)\n",
    "\n",
    "for i ∈ 1:3\n",
    "    plot(x,sample_kernel(x, 𝑘 = kern_periodic, θ = params))\n",
    "end\n",
    "\n",
    "title(L\"periodic, $l=0.25$, $\\omega=1.00$\")\n",
    "\n",
    "\n",
    "subplot(222)\n",
    "\n",
    "params = Dict(\"period\" => 0.5, \"lengthscale\" => 0.25, \"variance\" => 1.)\n",
    "\n",
    "for i ∈ 1:3\n",
    "    plot(x,sample_kernel(x, 𝑘 = kern_periodic, θ = params))\n",
    "end\n",
    "\n",
    "title(L\"periodic, $l=0.25$, $\\omega=0.50$\")\n",
    "\n",
    "\n",
    "subplot(223)\n",
    "\n",
    "params = Dict(\"period\" => 1., \"lengthscale\" => 1., \"variance\" => 1.)\n",
    "\n",
    "for i ∈ 1:3\n",
    "    plot(x,sample_kernel(x, 𝑘 = kern_periodic, θ = params))\n",
    "end\n",
    "\n",
    "title(L\"periodic, $l=1.00$, $\\omega=1.00$\")\n",
    "\n",
    "subplot(224)\n",
    "\n",
    "params = Dict(\"period\" => 0.5, \"lengthscale\" => 1., \"variance\" => 1.)\n",
    "\n",
    "for i ∈ 1:3\n",
    "    plot(x,sample_kernel(x, 𝑘 = kern_periodic, θ = params))\n",
    "end\n",
    "\n",
    "title(L\"periodic, $l=1.00$, $\\omega=0.50$\")"
   ]
  },
  {
   "cell_type": "markdown",
   "metadata": {},
   "source": [
    "### Exponential Kernel\n",
    "\n",
    "$k(x_i,x_j; \\theta) = \\sigma^2\\exp\\left(\\frac{1}{l}\\|x_i - x_j\\|\\right)$\n",
    "\n",
    "Hyperparameters, $\\theta = \\{l,\\sigma^2\\}$ correspond to lengthscale and variance of kernel respectively."
   ]
  },
  {
   "cell_type": "code",
   "execution_count": null,
   "metadata": {},
   "outputs": [],
   "source": [
    "figure(figsize=(16,6))\n",
    "\n",
    "subplot(121)\n",
    "\n",
    "params = Dict(\"lengthscale\" => 0.5, \"variance\" => 1.)\n",
    "\n",
    "for _ ∈ 1:5\n",
    "    plot(x,sample_kernel(x, 𝑘 = kern_exponential, θ = params))\n",
    "end\n",
    "\n",
    "title(L\"exponential, $l=0.5$\")\n",
    "\n",
    "\n",
    "subplot(122)\n",
    "\n",
    "params = Dict(\"lengthscale\" => 2., \"variance\" => 1.)\n",
    "\n",
    "for _ ∈ 1:5\n",
    "    plot(x,sample_kernel(x, 𝑘 = kern_exponential, θ = params))\n",
    "end\n",
    "\n",
    "title(L\"exponential, $l=2.0$\")\n"
   ]
  },
  {
   "cell_type": "markdown",
   "metadata": {},
   "source": [
    "### $\\gamma$-exponential Kernel\n",
    "\n",
    "$k(x_i,x_j; \\theta) = \\sigma^2\\exp\\left(\\frac{1}{l^\\gamma}\\|x_i - x_j\\|^\\gamma\\right)$\n",
    "\n",
    "Hyperparameters, $\\theta = \\{\\gamma, l,\\sigma^2\\}$ correspond to exponent, lengthscale and variance of kernel respectively.\n",
    "\n",
    "Note that when $\\gamma = 1$, the kernel is the exponential kernel, and when $\\gamma = 2$ it is approximately the exponentiated quadratic."
   ]
  },
  {
   "cell_type": "code",
   "execution_count": null,
   "metadata": {},
   "outputs": [],
   "source": [
    "params = Dict(\"exponent\" => 1.,\"lengthscale\" => 0.5, \"variance\" => 1.)\n",
    "\n",
    "figure()\n",
    "for params[\"exponent\"] ∈ [1.,2.,4.,10.]\n",
    "    plot(x,sample_kernel(x, 𝑘 = kern_exponential_𝛾, θ = params))\n",
    "end\n",
    "title(L\"$\\gamma$-exponential\")\n",
    "legend(labels=[1.,2.,4.,10.])"
   ]
  },
  {
   "cell_type": "markdown",
   "metadata": {},
   "source": [
    "### Matern Kernels\n",
    "\n",
    "$k(x_i,x_j; \\theta) = \\sigma^2\\frac{2^{1-\\nu}}{\\Gamma(\\nu)}\\left(\\frac{\\sqrt{2\\nu}}{l}\\|x_i-x_j\\|\\right)^\\nu K_\\nu\\left(\\frac{\\sqrt{2\\nu}}{l}\\|x_i-x_j\\|\\right)$\n",
    "\n",
    "Hyperparameters, $\\theta = \\{\\nu, l, \\sigma^2\\}$ correspond to Matérn order, lengthscale and variance of kernel respectively.\n",
    "\n",
    "Note that when $\\nu = \\frac{1}{2}$, the kernel is the exponential kernel."
   ]
  },
  {
   "cell_type": "code",
   "execution_count": null,
   "metadata": {},
   "outputs": [],
   "source": [
    "figure(figsize=(16,6))\n",
    "\n",
    "subplot(121)\n",
    "\n",
    "params = Dict(\"nu\" => 1.5, \"lengthscale\" => 0.5, \"variance\" => 1.)\n",
    "\n",
    "for _ ∈ 1:5\n",
    "    plot(x,sample_kernel(x, 𝑘 = kern_matern, θ = params))\n",
    "end\n",
    "\n",
    "title(L\"Mat\\'ern, $\\nu=3/2$\")\n",
    "\n",
    "\n",
    "subplot(122)\n",
    "\n",
    "params = Dict(\"nu\" => 2.5, \"lengthscale\" => 0.5, \"variance\" => 1.)\n",
    "\n",
    "for _ ∈ 1:5\n",
    "    plot(x,sample_kernel(x, 𝑘 = kern_matern, θ = params))\n",
    "end\n",
    "\n",
    "title(L\"Mat\\'ern, $\\nu=2.5$\")"
   ]
  },
  {
   "cell_type": "code",
   "execution_count": null,
   "metadata": {},
   "outputs": [],
   "source": [
    "params = Dict(\"nu\" => 0.5, \"lengthscale\" => 0.5, \"variance\" => 1.)\n",
    "figure(figsize=(16,6))\n",
    "\n",
    "subplot(121)\n",
    "for params[\"nu\"] ∈ [1./2.,3./2.,5./2.,7./2.]\n",
    "    plot(x, sample_kernel(x, 𝑘 = kern_matern, θ = params))\n",
    "end\n",
    "title(L\"Mat\\'ern (half integer)\")\n",
    "legend(labels=[1./2.,3./2.,5./2.,7./2.])\n",
    "\n",
    "\n",
    "subplot(122)\n",
    "\n",
    "for params[\"nu\"] ∈ [1.,2.,4.,8.]\n",
    "    plot(x, sample_kernel(x, 𝑘 = kern_matern, θ = params))\n",
    "end\n",
    "title(L\"Mat\\'ern (integer)\")\n",
    "legend(labels=[1.,2.,4.,8.])\n",
    "\n"
   ]
  },
  {
   "cell_type": "markdown",
   "metadata": {},
   "source": [
    "## N-D Kernels"
   ]
  },
  {
   "cell_type": "code",
   "execution_count": null,
   "metadata": {},
   "outputs": [],
   "source": [
    "𝑛ᵤ = 50\n",
    "𝐮  = (repmat(linspace(-1.5,1.5,𝑛ᵤ)',𝑛ᵤ,1), repmat(linspace(-1.5,1.5,𝑛ᵤ),1,𝑛ᵤ))\n",
    "\n",
    "for i = 1:4\n",
    "    k = reshape(sample_nd_kernel(𝐮), 𝑛ᵤ,𝑛ᵤ)\n",
    "    surf(𝐮[1], 𝐮[2], k ,alpha=0.2)\n",
    "end\n",
    "title(\"draws from 2-D exponentiated quadratic kernel\")"
   ]
  },
  {
   "cell_type": "markdown",
   "metadata": {},
   "source": [
    "## Example Regression Problem\n",
    "\n",
    "$f = sin(x)$\n",
    "\n",
    "$y = f(x) + \\varepsilon$"
   ]
  },
  {
   "cell_type": "code",
   "execution_count": null,
   "metadata": {},
   "outputs": [],
   "source": [
    "𝑓(𝑥) = sin.(𝑥)\n",
    "\n",
    "𝑥 = linspace(0,2π,500)\n",
    "𝑖 = sort(1 + round.(Int, 500 * rand(10))) # random samples indexes\n",
    "    \n",
    "σ² = 0.1 ^ 2 #noise variance\n",
    "\n",
    "𝑢 = 𝑥[𝑖]                         # random sample input\n",
    "𝑦 = 𝑓(𝑢) + sqrt.(σ²) * randn(10) # noisy sample evaluations\n",
    "\n",
    "plot(𝑥,𝑓(𝑥),\"-\",𝑢,𝑦,\"o\");"
   ]
  },
  {
   "cell_type": "markdown",
   "metadata": {},
   "source": [
    "### Plotting Utility"
   ]
  },
  {
   "cell_type": "code",
   "execution_count": null,
   "metadata": {},
   "outputs": [],
   "source": [
    "function plot_gp_posterior(μ, Σ)\n",
    "    figure(figsize=(16,6))\n",
    "\n",
    "    subplot(121)\n",
    "\n",
    "    plot(𝑥,𝑓(𝑥),\"-\",𝑢,𝑦,\"o\");\n",
    "    plot(𝑥,μ,\"--\")\n",
    "\n",
    "    fill_between(𝑥,\n",
    "                 μ - 1.96*sqrt.(diag(Σ)), \n",
    "                 μ + 1.96*sqrt.(diag(Σ)), alpha=0.5)\n",
    "\n",
    "    ylim(-1.6,1.6)\n",
    "    title(\"mean function with 95% credible region\")\n",
    "\n",
    "    # Sample GP posterior\n",
    "    𝑛ₛ = 100\n",
    "\n",
    "    samples = sample_posterior(μ,Σ,n=𝑛ₛ)\n",
    "\n",
    "    subplot(122)\n",
    "\n",
    "    for i = 1:𝑛ₛ\n",
    "        plot(𝑥, samples[i],\"k\", alpha=0.2)\n",
    "    end\n",
    "\n",
    "    ylim(-1.6,1.6)\n",
    "    title(\"Samples from GP posterior\")\n",
    "end "
   ]
  },
  {
   "cell_type": "markdown",
   "metadata": {},
   "source": [
    "### GP Regression with RBF kernel"
   ]
  },
  {
   "cell_type": "code",
   "execution_count": null,
   "metadata": {},
   "outputs": [],
   "source": [
    "params = Dict(\"lengthscale\" => 1.0, \"variance\" => 0.5)\n",
    "    \n",
    "# generate prediction function\n",
    "gp_predict = trained_gp(𝑢, 𝑦, 𝑘=kern_rbf,\n",
    "                              σ²= σ²,\n",
    "                              θ = params)\n",
    "\n",
    "μ,Σ = gp_predict(𝑥)\n",
    "plot_gp_posterior(μ,Σ)"
   ]
  },
  {
   "cell_type": "markdown",
   "metadata": {},
   "source": [
    "### GP Regression with Matern kernels"
   ]
  },
  {
   "cell_type": "markdown",
   "metadata": {},
   "source": [
    "#### Exponential"
   ]
  },
  {
   "cell_type": "code",
   "execution_count": null,
   "metadata": {},
   "outputs": [],
   "source": [
    "params = Dict(\"nu\" => 0.5, \"lengthscale\" => 4.0, \"variance\" => 0.5)\n",
    "    \n",
    "# generate prediction function\n",
    "gp_predict = trained_gp(𝑢, 𝑦, 𝑘=kern_matern,\n",
    "                              σ²= σ²,\n",
    "                              θ = params)\n",
    "\n",
    "μ,Σ = gp_predict(𝑥)\n",
    "plot_gp_posterior(μ,Σ)"
   ]
  },
  {
   "cell_type": "markdown",
   "metadata": {},
   "source": [
    "#### $\\nu = \\frac{3}{2}$"
   ]
  },
  {
   "cell_type": "code",
   "execution_count": null,
   "metadata": {},
   "outputs": [],
   "source": [
    "params = Dict(\"nu\" => 1.5, \"lengthscale\" => 2.0, \"variance\" => 0.5)\n",
    "    \n",
    "# generate prediction function\n",
    "gp_predict = trained_gp(𝑢, 𝑦, 𝑘=kern_matern,\n",
    "                              σ²= σ²,\n",
    "                              θ = params)\n",
    "\n",
    "μ,Σ = gp_predict(𝑥)\n",
    "plot_gp_posterior(μ,Σ)"
   ]
  },
  {
   "cell_type": "markdown",
   "metadata": {},
   "source": [
    "#### $\\nu  = \\frac{5}{2}$"
   ]
  },
  {
   "cell_type": "code",
   "execution_count": null,
   "metadata": {},
   "outputs": [],
   "source": [
    "params = Dict(\"nu\" => 2.5, \"lengthscale\" => 1.0, \"variance\" => 0.5)\n",
    "    \n",
    "# generate prediction function\n",
    "gp_predict = trained_gp(𝑢, 𝑦, 𝑘=kern_matern,\n",
    "                              σ²= σ²,\n",
    "                              θ = params)\n",
    "\n",
    "μ,Σ = gp_predict(𝑥)\n",
    "plot_gp_posterior(μ,Σ)"
   ]
  },
  {
   "cell_type": "code",
   "execution_count": null,
   "metadata": {},
   "outputs": [],
   "source": []
  }
 ],
 "metadata": {
  "kernelspec": {
   "display_name": "Julia 0.6.2",
   "language": "julia",
   "name": "julia-0.6"
  },
  "language_info": {
   "file_extension": ".jl",
   "mimetype": "application/julia",
   "name": "julia",
   "version": "0.6.2"
  }
 },
 "nbformat": 4,
 "nbformat_minor": 2
}
